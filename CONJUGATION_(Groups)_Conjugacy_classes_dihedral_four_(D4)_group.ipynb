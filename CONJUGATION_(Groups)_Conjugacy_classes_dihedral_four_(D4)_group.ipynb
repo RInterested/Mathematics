{
  "nbformat": 4,
  "nbformat_minor": 0,
  "metadata": {
    "colab": {
      "name": "CONJUGATION (Groups): Conjugacy classes dihedral four (D4) group.ipynb",
      "provenance": [],
      "collapsed_sections": []
    },
    "kernelspec": {
      "name": "python3",
      "display_name": "Python 3"
    }
  },
  "cells": [
    {
      "cell_type": "markdown",
      "metadata": {
        "id": "ICagd3RmbbFs",
        "colab_type": "text"
      },
      "source": [
        "Conjugacy classes are elements of the group that are \"similar\" like matrices are similar. The group can be partitioned by conjugacy classes, and to find these equivalence classes, each element of $G$ has to be conjugated by all other elements of the group.\n",
        "\n",
        "Notice that this is very different from cosets, in which a subgroup of $G$ is multiplied separately by all elements of $G.$\n",
        "\n",
        "However, If $G$ is a finite group, then for any group element $a,$ the elements in the conjugacy class of $a$ are in one-to-one correspondence with cosets of the centralizer of the element $a,$ denoted as $C_G(a).$  The centralizer of the element $a$ is the set of all the elements in the group that commute with $a.$ The centralizer is not just a subset; it is also a normal subgroup. \n",
        "\n",
        "To show this correspondence, pick two elements $b$ and $c,$ belonging to the same coset of $C_G(a).$ Because $b$ and $c$ are in the same coset, there will be some $z$ in the subgroup, which in this case is the centralizer $C_G(a),$ such that $b = cz.$ This is because both $b$ and $c$ arose from multiplying two elements of the subgroup $v$ and $w$ by the same element of the group $g,$ because this is the way cosets are built. Hence, $b=vg$ and $c=wg;$ and $b=cz \\implies vgg^{-1}=wgzg^{-1}.$ Since the centralizer is a normal sugroup, $gzg^{-1}\\in C_G(a),$ which means that $v=wy,$ where $y\\in C_G(a).$ Since neither $g,$ $z$ or $y$ where fixed initially, it is true that $b=cz.$\n",
        "\n",
        "Now both elements of the same coset of the $C_G(a)$ will give an identical result when conjugating $a:$ \n",
        "\n",
        "$$bab^{−1} = cza(cz)^{−1} = czaz^{−1}c^{−1} = czz^{−1}ac^{−1} = cac^{−1.}$$  "
      ]
    },
    {
      "cell_type": "markdown",
      "metadata": {
        "id": "jzJRCX6dC6LP",
        "colab_type": "text"
      },
      "source": [
        "<img src=\"https://user-images.githubusercontent.com/9312897/85929094-0c4e3c80-b880-11ea-9e93-74b22925b397.png\" width = 500/>"
      ]
    },
    {
      "cell_type": "markdown",
      "metadata": {
        "id": "JRFFHW1MFocx",
        "colab_type": "text"
      },
      "source": [
        "From [here](http://mathonline.wikidot.com/conjugacy-classes-of-the-dihedral-group-d4):"
      ]
    },
    {
      "cell_type": "markdown",
      "metadata": {
        "id": "mdyd75shDhZw",
        "colab_type": "text"
      },
      "source": [
        "Since $Z(D4)={1,r^2},$ each element of $Z(D4)$ has a trivial conjugacy class, i.e., $[1]={1}$ and $[r^2]={r^2}.$\n",
        "\n",
        "Consider the element $r.$ We have that:"
      ]
    },
    {
      "cell_type": "markdown",
      "metadata": {
        "id": "VwKtkXD8Aovs",
        "colab_type": "text"
      },
      "source": [
        "\\begin{align} rrr^{-1} &= r \\\\ \\quad r^3r(r^3)^{-1} &= r^3rr = r^5 = r \\\\ \\quad frf^{-1} &= frf = r^3 \\\\ (rf)r(rf)^{-1} &= (rf)r(f^{-1}r^{-1}) = (rf)(rf)r^3 = 1r^3 = r^3 \\\\ (r^2f)r(r^2f)^{-1} &= (r^2f)r(f^{-1}r^{-2}) = (r^2f)(rf)r^2 = rr^2 = r^3 \\\\  (r^3f)r(r^3f)^{-1} &= (r^3f)r(f^{-1}r^{-3}) = r^3frfr = (r^3f)(rf)r= r^2r = r^3 \\end{align}"
      ]
    },
    {
      "cell_type": "markdown",
      "metadata": {
        "id": "l7kNip28AFy3",
        "colab_type": "text"
      },
      "source": [
        "Thus the conjugacy class of $r$ is $[r]=\\{r,r^3\\}.$\n",
        "\n",
        "Now consider the element $f.$ We have that:"
      ]
    },
    {
      "cell_type": "markdown",
      "metadata": {
        "id": "KRGDHKzICWpq",
        "colab_type": "text"
      },
      "source": [
        "\\begin{align}  fff^{-1} &= f \\\\  (rf)f(rf)^{-1} &= (rf)f(f^{-1}r^3) = (rf)(r^3) = r^2f \\\\ (r^2f)f(r^2f)^{-1} &= (r^2f)f(f^{-1}r^2) = (r^2f)(r^2) = f \\\\  (r^3f)f(r^3f)^{-1} &= (r^3f)f(f^{-1}r) = (r^3f)(r) = r^2f \\end{align}"
      ]
    },
    {
      "cell_type": "markdown",
      "metadata": {
        "id": "yNvzGmsdEf_E",
        "colab_type": "text"
      },
      "source": [
        "Thus the conjugacy class of $f$ is $[f]=\\{f,r^2f\\}.$ \n",
        "\n",
        "There are only two remaining elements in D4 that have not been assigned a conjugacy class yet. They are $rf$ and $r^3f.$ Since $rf,r^3f\\notin Z(D4)$ we have that $rf$ and $r^3f$ have nontrivial conjugacy classes. So $[rf]=\\{rf,r^3f\\}.$\n"
      ]
    },
    {
      "cell_type": "markdown",
      "metadata": {
        "id": "kIxYShVXN1ui",
        "colab_type": "text"
      },
      "source": [
        "We can partition D4 into its conjugacy classes by:\n",
        "\n",
        "\\begin{align} D_4 = [1] \\cup [r^2] \\cup [r] \\cup [f] \\cup [rf] = \\{ 1 \\} \\cup \\{ r^2 \\} \\cup \\{ r, r^3 \\} \\cup \\{ f, r^2f \\} \\cup \\{ rf, r^3f \\} \\end{align}"
      ]
    },
    {
      "cell_type": "markdown",
      "metadata": {
        "id": "Tomw4ubtR9u4",
        "colab_type": "text"
      },
      "source": [
        "Compare to the proper normal subgroups of D4:\n",
        "\n",
        "$$\\{e, r, r^2, r^3\\}, \n",
        "\\{e, r^2, f, r^2f\\}, \n",
        "\\{e, r^2, rf, r^3f\\},  \n",
        "\\{e, r^2\\}$$"
      ]
    }
  ]
}