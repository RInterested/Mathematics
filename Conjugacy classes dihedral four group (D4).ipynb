{
  "nbformat": 4,
  "nbformat_minor": 0,
  "metadata": {
    "colab": {
      "name": "Conjugacy classes dihedral four (D4) group.ipynb",
      "provenance": [],
      "collapsed_sections": []
    },
    "kernelspec": {
      "name": "python3",
      "display_name": "Python 3"
    }
  },
  "cells": [
    {
      "cell_type": "markdown",
      "metadata": {
        "id": "jzJRCX6dC6LP",
        "colab_type": "text"
      },
      "source": [
        "<img src=\"https://user-images.githubusercontent.com/9312897/85929094-0c4e3c80-b880-11ea-9e93-74b22925b397.png\" width = 500/>"
      ]
    },
    {
      "cell_type": "markdown",
      "metadata": {
        "id": "JRFFHW1MFocx",
        "colab_type": "text"
      },
      "source": [
        "From [here](http://mathonline.wikidot.com/conjugacy-classes-of-the-dihedral-group-d4):"
      ]
    },
    {
      "cell_type": "markdown",
      "metadata": {
        "id": "mdyd75shDhZw",
        "colab_type": "text"
      },
      "source": [
        "Since $Z(D4)={1,r^2},$ each element of $Z(D4)$ has a trivial conjugacy class, i.e., $[1]={1}$ and $[r^2]={r^2}.$\n",
        "\n",
        "Consider the element $r.$ We have that:"
      ]
    },
    {
      "cell_type": "markdown",
      "metadata": {
        "id": "VwKtkXD8Aovs",
        "colab_type": "text"
      },
      "source": [
        "\\begin{align} rrr^{-1} &= r \\\\ \\quad r^3r(r^3)^{-1} &= r^3rr = r^5 = r \\\\ \\quad frf^{-1} &= frf = r^3 \\\\ (rf)r(rf)^{-1} &= (rf)r(f^{-1}r^{-1}) = (rf)(rf)r^3 = 1r^3 = r^3 \\\\ (r^2f)r(r^2f)^{-1} &= (r^2f)r(f^{-1}r^{-2}) = (r^2f)(rf)r^2 = rr^2 = r^3 \\\\  (r^3f)r(r^3f)^{-1} &= (r^3f)r(f^{-1}r^{-3}) = r^3frfr = (r^3f)(rf)r= r^2r = r^3 \\end{align}"
      ]
    },
    {
      "cell_type": "markdown",
      "metadata": {
        "id": "l7kNip28AFy3",
        "colab_type": "text"
      },
      "source": [
        "Thus the conjugacy class of $r$ is $[r]=\\{r,r^3\\}.$\n",
        "\n",
        "Now consider the element $f.$ We have that:"
      ]
    },
    {
      "cell_type": "markdown",
      "metadata": {
        "id": "KRGDHKzICWpq",
        "colab_type": "text"
      },
      "source": [
        "\\begin{align}  fff^{-1} &= f \\\\  (rf)f(rf)^{-1} &= (rf)f(f^{-1}r^3) = (rf)(r^3) = r^2f \\\\ (r^2f)f(r^2f)^{-1} &= (r^2f)f(f^{-1}r^2) = (r^2f)(r^2) = f \\\\  (r^3f)f(r^3f)^{-1} &= (r^3f)f(f^{-1}r) = (r^3f)(r) = r^2f \\end{align}"
      ]
    },
    {
      "cell_type": "markdown",
      "metadata": {
        "id": "yNvzGmsdEf_E",
        "colab_type": "text"
      },
      "source": [
        "Thus the conjugacy class of $f$ is $[f]=\\{f,r^2f\\}.$ \n",
        "\n",
        "There are only two remaining elements in D4 that have not been assigned a conjugacy class yet. They are $rf$ and $r^3f.$ Since $rf,r^3f\\notin Z(D4)$ we have that $rf$ and $r^3f$ have nontrivial conjugacy classes. So $[rf]=\\{rf,r^3f\\}.$\n"
      ]
    },
    {
      "cell_type": "markdown",
      "metadata": {
        "id": "kIxYShVXN1ui",
        "colab_type": "text"
      },
      "source": [
        "We can partition D4 into its conjugacy classes by:\n",
        "\n",
        "\\begin{align} D_4 = [1] \\cup [r^2] \\cup [r] \\cup [f] \\cup [rf] = \\{ 1 \\} \\cup \\{ r^2 \\} \\cup \\{ r, r^3 \\} \\cup \\{ f, r^2f \\} \\cup \\{ rf, r^3f \\} \\end{align}"
      ]
    },
    {
      "cell_type": "markdown",
      "metadata": {
        "id": "Tomw4ubtR9u4",
        "colab_type": "text"
      },
      "source": [
        "Compare to the proper normal subgroups of D4:\n",
        "\n",
        "$$\\{e, r, r^2, r^3\\}, \n",
        "\\{e, r^2, f, r^2f\\}, \n",
        "\\{e, r^2, rf, r^3f\\},  \n",
        "\\{e, r^2\\}$$"
      ]
    }
  ]
}